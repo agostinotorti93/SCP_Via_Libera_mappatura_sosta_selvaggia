{
 "cells": [
  {
   "cell_type": "code",
   "execution_count": null,
   "metadata": {},
   "outputs": [],
   "source": [
    "# Notebook che permette di estrarre un grafo stradale contenente le vie di una città da mappare al fine di identificare il fenomeno della sosta selvaggia.\n",
    "\n",
    "# Il notebook prende in input:\n",
    "# - il grafo stradale di OSM di un area geografica (e.g., tutto il nord ovest dell'italia)\n",
    "# - un file contentente i confini poligonali di un'area circoscritta (e.g., la città di milano)\n",
    "\n",
    "# Il notebook restituisce in output:\n",
    "# - il grafo stradale relativo alla sola area circoscritta (e.g., la città di milano) preprocessato (contenente solo le strade da mappare poiché possono ospitare la sosta di auto)\n"
   ]
  },
  {
   "cell_type": "code",
   "execution_count": null,
   "metadata": {},
   "outputs": [],
   "source": [
    "import pandas as pd\n",
    "import geopandas as gpd\n"
   ]
  },
  {
   "cell_type": "markdown",
   "metadata": {},
   "source": [
    "# input"
   ]
  },
  {
   "cell_type": "code",
   "execution_count": null,
   "metadata": {},
   "outputs": [],
   "source": [
    "\n",
    "# INPUT:\n",
    "# a) grafo stradale di OSM scaricato dal sito https://download.geofabrik.de/\n",
    "grafo_stradale_OSM_global  = \"data\\\\grafo_OSM_italy_nord_ovest\\\\gis_osm_roads_free_1.shp\"\n",
    "\n",
    "# b) road_type_to_keep_list --> lista che contiene solo le strade con categoria (fclass) a cui sono interessato (quelle carrozzabili)\n",
    "# questa lista è dedotta a partire da https://wiki.openstreetmap.org/wiki/IT:Key:highway\n",
    "road_type_to_keep_list = [\n",
    " # 'emergency_bay', # togliere\n",
    " 'living_street',\n",
    "#  'motorway', # togliere tangenziali\n",
    "#  'motorway_link', # togliere tangenziali\n",
    " 'primary',\n",
    " 'primary_link',\n",
    " 'residential',\n",
    " 'secondary',\n",
    " 'secondary_link',\n",
    " 'tertiary',\n",
    " 'tertiary_link',\n",
    "#  'trunk', # togliere cavalcavia\n",
    "#  'trunk_link', # togliere cavalcavia\n",
    " 'unclassified'\n",
    "]\n",
    "\n",
    "# c) road_name_to_exclude  --> lista che contiene i nomi delle vie che voglio escludere poichè da non mappare\n",
    "road_name_list_to_exclude = [\n",
    "'Via Monte Spluga',\n",
    "'Via Fratelli Beltrami',\n",
    "'Via Giovanni Battista Grassi',\n",
    "'Via Cristina Belgioioso',\n",
    "'Via Monte Santo',\n",
    "\"Via dell'Innovazione\",\n",
    "'Collegamento Via Eritrea - Via Stephenson',\n",
    "'Collegamento Via Barzaghi - Via Stephenson',\n",
    "'Rotatoria Barzaghi',\n",
    "'Rotatoria Merlata',\n",
    "'Via Cusago',\n",
    "'Via Sandro Pertini',\n",
    "'Via Cascina Nuova',\n",
    "'Via Vaiano Valle',\n",
    "'Cavalcavia Buccari',\n",
    "'Cavalcavia Pontinia',\n",
    "'Cavalcavia Adriano Bacula',\n",
    "'Cavalcavia Buccari',\n",
    "'Cavalcavia Don Lorenzo Milani',\n",
    "'Cavalcavia Giovanni Schiavoni',\n",
    "'Cavalcavia Giuseppe Luraghi',\n",
    "'Cavalcavia Pontinia',\n",
    "'Via Stigliano',\n",
    "'Via Settimo Milanese',\n",
    "'Via Riccardo Lombardi',\n",
    "'Via dei Giovi',\n",
    "'Via Virgilio Ferrari',\n",
    "'Viale Enrico Fermi',\n",
    "'Via Cassanese',\n",
    "'Viale Turchia',\n",
    "'Via Costante Giardegno',\n",
    "'Via dei Giovi',\n",
    "'Via Gattinara',\n",
    "'Strada Comunale Chiaravalle',\n",
    "'Viale Enrico Forlanini',\n",
    "'Via Assiano',\n",
    "'Via Guascona',\n",
    "'Via Martirano',\n",
    "'Strada per Baggio',\n",
    "'Via Valpolicella',\n",
    "'Via Bardolino',\n",
    "'Via San Marchetto',\n",
    "'Via Marignano',\n",
    "'Via Milano',\n",
    "'Sottopasso Patrocio',\n",
    "'Sottopasso Patroclo', \n",
    "'Via privata Pienza',\n",
    "'Via Papa Giovanni Ventitreesimo',\n",
    "'Via Camillo Sbarbaro',\n",
    "'Via F.lli Rizzardi - Milano',\n",
    "'Via Costante Girardengo'\n",
    "]\n",
    "# d) osmid_list_to_exclude  --> lista che contiene gli osm_id - link stradali - che voglio escludere poichè da non mappare\n",
    "osmid_list_to_exclude = ['48957470', '48957819','266577721','24725610','271897104','141209315','266587556','1207691444','444928122','1207689259','266587555','81201883','1207689260','1207689261','81201869','23275705','926161090','1044592784','282049361','282049359','305112135','305697007','25736767','1218322249','50097374','273918540','244682940','25121323']\n",
    "\n",
    "# e) geometria della città (poligono) che voglio estrarre rispetto al grafo stradale di OSM di input\n",
    "poligono_confini_comunali = \"data\\poligoni_milano\\A090101_ComuneMilano.shp\"\n",
    "\n",
    "# f) nome finale grafo comune in output\n",
    "final_name_grafo_comune_filtered = 'grafo_stradale_OSM_comune_filtered'\n"
   ]
  },
  {
   "cell_type": "markdown",
   "metadata": {},
   "source": [
    "# main"
   ]
  },
  {
   "cell_type": "code",
   "execution_count": null,
   "metadata": {},
   "outputs": [],
   "source": [
    "gdf_grafo_global = gpd.read_file(grafo_stradale_OSM_global)\n",
    "gdf_grafo_global.head(2)"
   ]
  },
  {
   "cell_type": "code",
   "execution_count": null,
   "metadata": {},
   "outputs": [],
   "source": [
    "gdf_grafo_global.crs"
   ]
  },
  {
   "cell_type": "code",
   "execution_count": null,
   "metadata": {},
   "outputs": [],
   "source": [
    "gdf_grafo_global_filtered = gdf_grafo_global[gdf_grafo_global['fclass'].isin(road_type_to_keep_list)]\n",
    "gdf_grafo_global_filtered= gdf_grafo_global_filtered[~gdf_grafo_global_filtered['osm_id'].isin(osmid_list_to_exclude)]\n",
    "gdf_grafo_global_filtered= gdf_grafo_global_filtered[~gdf_grafo_global_filtered['name'].isin(road_name_list_to_exclude)]"
   ]
  },
  {
   "cell_type": "code",
   "execution_count": null,
   "metadata": {},
   "outputs": [],
   "source": [
    "gdf_poligono_comune= gpd.read_file(poligono_confini_comunali)\n",
    "gdf_poligono_comune.head(2)\n"
   ]
  },
  {
   "cell_type": "code",
   "execution_count": null,
   "metadata": {},
   "outputs": [],
   "source": [
    "gdf_poligono_comune.crs"
   ]
  },
  {
   "cell_type": "code",
   "execution_count": null,
   "metadata": {},
   "outputs": [],
   "source": [
    "# proietto su piano riferimento italia roma 3003 prima di spatial join\n",
    "gdf_grafo_global_filtered = gdf_grafo_global_filtered.to_crs(epsg=3003) # spaltial projection on Monte Mario / Italy zone 1\n",
    "gdf_poligono_comune = gdf_poligono_comune.to_crs(epsg=3003) # spaltial projection on Monte Mario / Italy zone 1\n",
    "\n",
    "# spatial join\n",
    "column_list = list(gdf_grafo_global_filtered.columns)\n",
    "column_list.remove('geometry')\n",
    "\n",
    "join_intersect =  gpd.sjoin(gdf_poligono_comune, gdf_grafo_global_filtered,predicate='intersects', how = 'left').reset_index(drop=True)# linee che intersecano (sia between che interno) i poligono\n",
    "gpd_road_comune_final = gpd.GeoDataFrame(join_intersect[column_list].merge(gdf_grafo_global_filtered[['osm_id','geometry']],how='left'))\n"
   ]
  },
  {
   "cell_type": "code",
   "execution_count": null,
   "metadata": {},
   "outputs": [],
   "source": [
    "gpd_road_comune_final.head(2)"
   ]
  },
  {
   "cell_type": "code",
   "execution_count": null,
   "metadata": {},
   "outputs": [],
   "source": [
    "gpd_road_comune_final.plot()"
   ]
  },
  {
   "cell_type": "code",
   "execution_count": null,
   "metadata": {},
   "outputs": [],
   "source": [
    "gpd_road_comune_final.to_file(f\"data\\\\{final_name_grafo_comune_filtered}.shp\") "
   ]
  }
 ],
 "metadata": {
  "kernelspec": {
   "display_name": "Python 3",
   "language": "python",
   "name": "python3"
  },
  "language_info": {
   "codemirror_mode": {
    "name": "ipython",
    "version": 3
   },
   "file_extension": ".py",
   "mimetype": "text/x-python",
   "name": "python",
   "nbconvert_exporter": "python",
   "pygments_lexer": "ipython3",
   "version": "3.10.0"
  }
 },
 "nbformat": 4,
 "nbformat_minor": 2
}
